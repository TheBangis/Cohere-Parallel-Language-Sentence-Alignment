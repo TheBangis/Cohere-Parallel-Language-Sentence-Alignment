{
  "nbformat": 4,
  "nbformat_minor": 0,
  "metadata": {
    "colab": {
      "provenance": [],
      "include_colab_link": true
    },
    "kernelspec": {
      "name": "python3",
      "display_name": "Python 3"
    },
    "language_info": {
      "name": "python"
    }
  },
  "cells": [
    {
      "cell_type": "markdown",
      "metadata": {
        "id": "view-in-github",
        "colab_type": "text"
      },
      "source": [
        "<a href=\"https://colab.research.google.com/github/lukmanaj/Cohere-Parallel-Language-Sentence-Alignment/blob/main/Cohere_Align_Sentences.ipynb\" target=\"_parent\"><img src=\"https://colab.research.google.com/assets/colab-badge.svg\" alt=\"Open In Colab\"/></a>"
      ]
    },
    {
      "cell_type": "markdown",
      "source": [
        "# Miscellaneous"
      ],
      "metadata": {
        "id": "2S5AmIUh6qaz"
      }
    },
    {
      "cell_type": "code",
      "execution_count": null,
      "metadata": {
        "id": "Z9NcGaDY4HJR"
      },
      "outputs": [],
      "source": [
        "from google.colab import drive\n",
        "drive.mount('/content/drive')"
      ]
    },
    {
      "cell_type": "code",
      "source": [
        "%cd /content/drive/MyDrive\n",
        "\n",
        "!git clone https://github.com/lukmanaj/Cohere-Parallel-Language-Sentence-Alignment.git"
      ],
      "metadata": {
        "id": "Ha_XHwq664zv"
      },
      "execution_count": null,
      "outputs": []
    },
    {
      "cell_type": "code",
      "source": [
        "%cd /content/drive/MyDrive/Cohere-Parallel-Language-Sentence-Alignment"
      ],
      "metadata": {
        "id": "RqC7qUaf7AK6"
      },
      "execution_count": null,
      "outputs": []
    },
    {
      "cell_type": "markdown",
      "source": [
        "# Cohere"
      ],
      "metadata": {
        "id": "cwhqlTTr7i1J"
      }
    },
    {
      "cell_type": "code",
      "source": [
        "!pip install cohere"
      ],
      "metadata": {
        "id": "Wc9MELob7ku3"
      },
      "execution_count": null,
      "outputs": []
    },
    {
      "cell_type": "code",
      "source": [
        "!python3 scripts/cohere_align.py \\\n",
        "  --cohere_api_key '<api_key>' \\\n",
        "  -m 'embed-multilingual-v2.0' \\\n",
        "  -s src.txt \\\n",
        "  -t trg.txt \\\n",
        "  -o cohere \\\n",
        "  --retrieval 'nn' \\\n",
        "  --dot \\\n",
        "  --cuda"
      ],
      "metadata": {
        "id": "dYBORmOz7wNX"
      },
      "execution_count": null,
      "outputs": []
    },
    {
      "cell_type": "markdown",
      "source": [
        "# Laser"
      ],
      "metadata": {
        "id": "nax8y2jl70xQ"
      }
    },
    {
      "cell_type": "code",
      "source": [
        "!pip install laserembeddings\n",
        "\n",
        "#download the pre-trained autoencoder models:\n",
        "!python -m laserembeddings download-models"
      ],
      "metadata": {
        "id": "eRWsVlY27-4k"
      },
      "execution_count": null,
      "outputs": []
    },
    {
      "cell_type": "code",
      "source": [
        "!python3 scripts/laser_align.py \\\n",
        "  -s src.txt \\\n",
        "  -t trg.txt \\\n",
        "  -o cohere \\\n",
        "  --src_lang ha \\\n",
        "  --trg_lang en \\\n",
        "  --retrieval 'nn' \\\n",
        "  --dot \\\n",
        "  --cuda"
      ],
      "metadata": {
        "id": "oGuhPxHk7_4O"
      },
      "execution_count": null,
      "outputs": []
    },
    {
      "cell_type": "markdown",
      "source": [
        "#Evaluation"
      ],
      "metadata": {
        "id": "GEuc9lr_8KDg"
      }
    },
    {
      "cell_type": "markdown",
      "source": [
        "## Download FLORES"
      ],
      "metadata": {
        "id": "AcC-avWb8WXE"
      }
    },
    {
      "cell_type": "code",
      "source": [
        "# evaluation on flores devtest\n",
        "\n",
        "# download flores\n",
        "!wget --trust-server-names https://tinyurl.com/flores200dataset"
      ],
      "metadata": {
        "id": "MHPYAb6r8NAL"
      },
      "execution_count": null,
      "outputs": []
    },
    {
      "cell_type": "code",
      "source": [
        "# untar\n",
        "\n",
        "!tar -xvzf flores200_dataset.tar.gz"
      ],
      "metadata": {
        "id": "QWMjfbUq8pdy"
      },
      "execution_count": null,
      "outputs": []
    },
    {
      "cell_type": "markdown",
      "source": [
        "## Generate alignment using laser and cohere"
      ],
      "metadata": {
        "id": "c2hi3PIF8ghQ"
      }
    },
    {
      "cell_type": "code",
      "source": [
        "!python3 scripts/laser_align.py \\\n",
        "  -s flores200_dataset/devtest/hau_Latn.devtest \\\n",
        "  -t flores200_dataset/devtest/eng_Latn.devtest \\\n",
        "  -o cohere/flores \\\n",
        "  --src_lang ha \\\n",
        "  --trg_lang en \\\n",
        "  --retrieval 'nn' \\\n",
        "  --dot \\\n",
        "  --cuda"
      ],
      "metadata": {
        "id": "3fhiCZzp8wuV"
      },
      "execution_count": null,
      "outputs": []
    },
    {
      "cell_type": "code",
      "source": [
        "!python3 scripts/cohere_align.py \\\n",
        "  --cohere_api_key '<api_key>' \\\n",
        "  -m 'embed-multilingual-v2.0' \\\n",
        "  -s flores200_dataset/devtest/hau_Latn.devtest \\\n",
        "  -t flores200_dataset/devtest/eng_Latn.devtest \\\n",
        "  -o cohere/flores \\\n",
        "  --retrieval 'nn' \\\n",
        "  --dot \\\n",
        "  --cuda"
      ],
      "metadata": {
        "id": "k384oTcA81rR"
      },
      "execution_count": null,
      "outputs": []
    },
    {
      "cell_type": "markdown",
      "source": [
        "## Calculate F1 score"
      ],
      "metadata": {
        "id": "aSzM6yqG9DCF"
      }
    },
    {
      "cell_type": "code",
      "source": [
        "from sklearn.metrics import f1_score\n",
        "import pandas as pd\n",
        "\n",
        "with open('flores200_dataset/devtest/eng_Latn.devtest') as f:\n",
        "  y_true = f.readlines()\n",
        "  y_true = [y.strip() for y in y_true]\n",
        "\n",
        "# cohere f1\n",
        "df = pd.read_csv('cohere/flores/cohere_translations.csv')\n",
        "y_pred = df['translations'].tolist()\n",
        "cohere_f1 = f1_score(y_true, y_pred, average='macro')\n",
        "\n",
        "# laser f1\n",
        "df = pd.read_csv('cohere/flores/laser_translations.csv')\n",
        "y_pred = df['translations'].tolist()\n",
        "laser_f1 = f1_score(y_true, y_pred, average='macro')"
      ],
      "metadata": {
        "id": "2bYra_vG9Eml"
      },
      "execution_count": null,
      "outputs": []
    },
    {
      "cell_type": "code",
      "source": [
        "print(cohere_f1, laser_f1)"
      ],
      "metadata": {
        "id": "cegKE4AH9R2S"
      },
      "execution_count": null,
      "outputs": []
    }
  ]
}